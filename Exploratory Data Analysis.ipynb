{
 "cells": [
  {
   "cell_type": "markdown",
   "metadata": {},
   "source": [
    "# Explore the dataset\n",
    "\n",
    "\n",
    "In this notebook, we will perform an EDA (Exploratory Data Analysis) on the processed Waymo dataset (data in the `processed` folder). In the first part, you will create a function to display "
   ]
  },
  {
   "cell_type": "code",
   "execution_count": 1,
   "metadata": {},
   "outputs": [],
   "source": [
    "import matplotlib.pyplot as plt\n",
    "import matplotlib.patches as mpatches\n",
    "import math\n",
    "import numpy as np\n",
    "import sys\n",
    "import os\n",
    "\n",
    "from utils import get_dataset\n",
    "\n",
    "%matplotlib inline"
   ]
  },
  {
   "cell_type": "code",
   "execution_count": null,
   "metadata": {},
   "outputs": [],
   "source": [
    "# dir argument is supposed to be a glob pattern see: https://github.com/tensorflow/models/blob/bce895d9c18fb47d9c304ebd49c58c03671c67a3/research/object_detection/builders/dataset_builder.py#L78\n",
    "# doc on glob pattern i.e. tf.io.gfile.glob: https://www.tensorflow.org/api_docs/python/tf/io/gfile/glob\n",
    "\n",
    "tfrecord_path = \"/app/project/data/*.tfrecord\"\n",
    "dataset = get_dataset(tfrecord_path)\n",
    "dataset_size = dataset.reduce(0, lambda count, _: count + 1).numpy()"
   ]
  },
  {
   "cell_type": "markdown",
   "metadata": {},
   "source": [
    "## Write a function to display an image and the bounding boxes\n",
    "\n",
    "Implement the `display_instances` function below. This function takes a dataset as an input and displays an images with its corresponding bounding boxes. The only requirement is that the classes should be color coded (eg, vehicles in red, pedestrians in blue, cyclist in green)."
   ]
  },
  {
   "cell_type": "code",
   "execution_count": null,
   "metadata": {},
   "outputs": [],
   "source": [
    "def display_instances(dataset, num_images=16):\n",
    "    \"\"\"\n",
    "    This function takes a dataset with object detection examples [1]\n",
    "    and displays images with the associated bounding boxes.\n",
    "\n",
    "    Args:\n",
    "        dataset: A `tf.data.Dataset` object with object detection examples [1]\n",
    "        num_images: Number of example images to display\n",
    "\n",
    "    [1] https://github.com/tensorflow/models/blob/a77f240fc39cd9baa2ab897af5fcec5551a0e85a/research/object_detection/data_decoders/tf_example_decoder.py#L499\n",
    "    \"\"\"\n",
    "\n",
    "    cols = 4\n",
    "    rows = math.ceil(num_images / cols)\n",
    "    fig, axs = plt.subplots(rows, cols, figsize=(12, 12))\n",
    "    for n, ex in enumerate(dataset.take(num_images)):\n",
    "        #print(n)\n",
    "        #sys.exit()\n",
    "        i = n // cols\n",
    "        j = n %  cols\n",
    "        ax = axs[i, j]\n",
    "\n",
    "        im = ex[\"image\"].numpy()\n",
    "        axs[i, j].imshow(im)\n",
    "        ax.get_yaxis().set_visible(False)\n",
    "        ax.get_xaxis().set_visible(False)\n",
    "\n",
    "        boxes = ex[\"groundtruth_boxes\"].numpy()\n",
    "        classes = ex[\"groundtruth_classes\"].numpy()\n",
    "\n",
    "        clrs = {1: 'red', 2: 'blue', 4: 'green'}\n",
    "\n",
    "        for box, label in zip(boxes, classes):\n",
    "            xy = box[1]*im.shape[1], box[0]*im.shape[0]\n",
    "            h = (box[2] - box[0]) * im.shape[0]\n",
    "            w = (box[3] - box[1]) * im.shape[1]\n",
    "            rec = mpatches.Rectangle(xy, w, h, linewidth=1, edgecolor=clrs[label], facecolor='none')\n",
    "            ax.add_patch(rec)\n",
    "\n",
    "    plt.subplots_adjust(wspace=0.01, hspace=0.01, top=1, bottom=0, left=0, right=1)"
   ]
  },
  {
   "cell_type": "markdown",
   "metadata": {},
   "source": [
    "## Display 10 images \n",
    "\n",
    "Using the dataset created in the second cell and the function you just coded, display 10 random images with the associated bounding boxes. You can use the methods `take` and `shuffle` on the dataset."
   ]
  },
  {
   "cell_type": "code",
   "execution_count": null,
   "metadata": {},
   "outputs": [],
   "source": [
    "# dataset_size is 15947, it cannot be fully shuffled\n",
    "# as 32GB of RAM isn't enough, hence resort to a \n",
    "# smaller buffer_size\n",
    "buffer_size = 1000\n",
    "dataset_shuffled = dataset.shuffle(buffer_size, seed=0, reshuffle_each_iteration=False)"
   ]
  },
  {
   "cell_type": "code",
   "execution_count": null,
   "metadata": {},
   "outputs": [],
   "source": [
    "display_instances(dataset_shuffled, 16)"
   ]
  },
  {
   "cell_type": "markdown",
   "metadata": {},
   "source": [
    "## Additional EDA\n",
    "\n",
    "In this last part, you are free to perform any additional analysis of the dataset. What else would like to know about the data?\n",
    "For example, think about data distribution. So far, you have only looked at a single file..."
   ]
  },
  {
   "cell_type": "code",
   "execution_count": null,
   "metadata": {},
   "outputs": [],
   "source": []
  }
 ],
 "metadata": {
  "interpreter": {
   "hash": "949777d72b0d2535278d3dc13498b2535136f6dfe0678499012e853ee9abcab1"
  },
  "kernelspec": {
   "display_name": "Python 3.8.10 64-bit",
   "language": "python",
   "name": "python3"
  },
  "language_info": {
   "codemirror_mode": {
    "name": "ipython",
    "version": 3
   },
   "file_extension": ".py",
   "mimetype": "text/x-python",
   "name": "python",
   "nbconvert_exporter": "python",
   "pygments_lexer": "ipython3",
   "version": "3.8.10"
  }
 },
 "nbformat": 4,
 "nbformat_minor": 4
}
